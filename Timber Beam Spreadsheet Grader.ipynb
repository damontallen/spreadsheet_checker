{
 "cells": [
  {
   "cell_type": "markdown",
   "metadata": {},
   "source": [
    "# Scope of project"
   ]
  },
  {
   "cell_type": "markdown",
   "metadata": {},
   "source": [
    "After being satisfied that this is indeed possible now I'll lay out what needs to be done."
   ]
  },
  {
   "cell_type": "markdown",
   "metadata": {},
   "source": [
    "## Grading Rubric"
   ]
  },
  {
   "cell_type": "markdown",
   "metadata": {},
   "source": [
    "1. Problem statement shown 1\n",
    "2. <strike>Create tables containing valid sizes and spacings on a separate sheet and use these tables using vlookup. 1</strike>\n",
    "3. Use functions like min, max, and if to automate design validation. 1.5\n",
    "4. Formulas are used for calculations instead of manual entry of values 2\n",
    "5. The equations entered into the spreadsheet are correct 1\n",
    "6. Correct values are used from the problem statement, i.e. member dimensions, spans, etc. 1\n",
    "7. Correct allowable values are used for comparison.  1\n",
    "8. All the allowable stress adjustment values are correct and used. 1.5\n",
    "9. Use of named cells to make formulas more readable 1 - **Extra Credit**"
   ]
  },
  {
   "cell_type": "markdown",
   "metadata": {},
   "source": [
    "## Validation Techniques"
   ]
  },
  {
   "cell_type": "markdown",
   "metadata": {},
   "source": [
    "1. Equations\n",
    "  * Excel equations can be converted to symbolic equations for evaluation\n",
    "    * Look up the variable name referenced in the cell to the left of the referenced value\n",
    "      * This will need to be done with the aid of the tokenizer to find cell references\n",
    "      * If cells are named (extra credit) then the cell reference will have to be have to be tracked down\n",
    "    * Have the accurate symbolic equation already set using sympy\n",
    "    * Subtract the two equations and simplify (correct should be equal to 0)\n",
    "2. Manually entered data\n",
    "  * These values will simply need to be checked against known values\n",
    "3. Conditional statements\n",
    "  * These should be a simple verification using the tokenizer\n",
    "    * It may be necessary to validate the logic.\n"
   ]
  },
  {
   "cell_type": "markdown",
   "metadata": {
    "collapsed": true
   },
   "source": [
    "# Steps"
   ]
  },
  {
   "cell_type": "markdown",
   "metadata": {},
   "source": [
    "## Document Cells that Need to be Examined"
   ]
  },
  {
   "cell_type": "code",
   "execution_count": 1,
   "metadata": {
    "collapsed": false
   },
   "outputs": [],
   "source": [
    "from collections import namedtuple\n",
    "from collections import OrderedDict as Dict\n",
    "Data = namedtuple(\"Data\",\"description variable value equation condition\")\n",
    "\n",
    "data_cells = Dict([(\"C23\" , Data('Species',     None,     'Southern Pine',\n",
    "                               None,     None)),\n",
    "                  (\"C24\" , Data('Grade',  None,     'No. 2 Dense', None,\n",
    "                                None)),\n",
    "                  (\"C25\" , Data('Moisture service conditions',     None,\n",
    "                                'Wet',    None,     None)),\n",
    "                  (\"C26\" , Data('Nominal Beam Thickness',     None,     4,\n",
    "                              None,     None)),\n",
    "                  (\"C27\" , Data('Nominal Beam Depth',    None,     10,  None,\n",
    "                                None)),\n",
    "                  (\"C28\" , Data(None,     'L', 12,  None,     None)),\n",
    "                  (\"C29\" , Data(None,     's', 18,  None,     None)),\n",
    "                  (\"C30\" , Data(None,     'wD',     25,  None,     None)),\n",
    "                  (\"C31\" , Data(None,     'wL',     125, None,     None)),\n",
    "                  (\"C32\" , Data(None,     'w', 150, 'wD+wL',  None)),\n",
    "                  (\"C35\" , Data(None,     'b', 3.5, None,     None)),\n",
    "                  (\"C36\" , Data(None,     'd', 9.25,     None,     None)),\n",
    "                  (\"C37\" , Data(None,     'A', 32.38,    'b*d',    None)),\n",
    "                  (\"C38\" , Data(None,     'S', 49.91,    '1/6*b*d**2',  \n",
    "                                None)),\n",
    "                  (\"C39\" , Data(None,     'I', 230.8,    '1/12*b*d**3', \n",
    "                                None)),\n",
    "                  (\"C43\" , Data(None,     'Fb',     850, None,     None)),\n",
    "                  (\"C44\" , Data(None,     'Fv',     175, None,     None)),\n",
    "                  (\"C45\" , Data(None,     'E', 1600000,  None,     None)),\n",
    "                  (\"C51\" , Data(None,     'CD',     1.25,     None,     \n",
    "                                None)),\n",
    "                  (\"C52\" , Data(None,     'CMb',    1,   None,     None)),\n",
    "                  (\"C53\" , Data(None,     'Ct',     1,   None,     None)),\n",
    "                  (\"C54\" , Data(None,     'CL',     1,   None,     None)),\n",
    "                  (\"C55\" , Data(None,     'CF',     1,   None,     None)),\n",
    "                  (\"C56\" , Data(None,     'Cfu',    1,   None,     None)),\n",
    "                  (\"C57\" , Data(None,     'Ci',     1,   None,     None)),\n",
    "                  (\"C58\" , Data(None,     'Cr',     1.15,     None,\n",
    "                                'IF(s<=24, 1.15, 1)')),\n",
    "                  (\"C61\" , Data(None,     'Fb_',    None,\n",
    "                                'Fb*CD*CMb*Ct*CL*CF*Cfu*Ci*Cr',    None)),\n",
    "                  (\"C64\" , Data(None,     'M', None,     'w*L**2/8',    \n",
    "                                None)),\n",
    "                  (\"C66\" , Data(None,     'fb',     None,     'M/S',    \n",
    "                                None)),\n",
    "                  (\"C68\" , Data('Bending Check',    None,     None,     None,\n",
    "                                'IF(Fb_>=fb,\"Good\",\"Not Good\")')),\n",
    "                  (\"C74\" , Data(None,     'CD',     1.25,     'CD',     \n",
    "                                None)),\n",
    "                  (\"C75\" , Data(None,     'CMv',    0.97,     None,     \n",
    "                                None)),\n",
    "                  (\"C76\" , Data(None,     'Ct',     1,   'Ct',     None)),\n",
    "                  (\"C77\" , Data(None,     'Ci',     1,   'Ci',     None)),\n",
    "                  (\"C80\" , Data(None,     'Fv_',    None,\n",
    "                                'Fv*CD*CMv*Ct*Ci',  None)),\n",
    "                  (\"C83\" , Data(None,     'V', None,     'w*L/2',  None)),\n",
    "                  (\"C85\" , Data(None,     'fv',     None,     '3/2*V/A',\n",
    "                                None)),\n",
    "                  (\"C87\" , Data('Shear Check', None,     None,     None,\n",
    "                                'IF(Fv_>=fv,\"Good\",\"Not Good\")')),\n",
    "                  (\"C94\" , Data(None,     'CME',    0.9, None,     None)),\n",
    "                  (\"C95\" , Data(None,     'Ct',     1,   'Ct',     None)),\n",
    "                  (\"C96\" , Data(None,     'Ci',     1,   'Ci',     None)),\n",
    "                  (\"C100\", Data(None,     'E_',     None,     'E*CME',  \n",
    "                                None)),\n",
    "                  (\"C104\", Data(None,     'L_360',  None,     'L/360',  \n",
    "                                None)),\n",
    "                  (\"C107\", Data(None,     'D_live', None,\n",
    "                                '5*wL*L**4/(384*E_*I)*12**3', None)),\n",
    "                  (\"C109\", Data('Live Deflection Check', None,     None,\n",
    "                                None,     \n",
    "                                'IF(L_360>=D_live,\"Good\",\"Not Good\")')),\n",
    "                  (\"C112\", Data(None,     'L_240',  None,     'L/240',  \n",
    "                                None)),\n",
    "                  (\"C116\", Data(None,     'D_total',     None,\n",
    "                                '5*w*L**4/(384*E_*I)*12**3',  None)),\n",
    "                  (\"C118\", Data('Total Deflection Check',     None,     None,\n",
    "                                None,     \n",
    "                                'IF(L_360>=D_total,\"Good\",\"Not Good\")')),\n",
    "                  (\"C125\", Data('Bending Summary',  None,     None,     'C68',\n",
    "                               None)),\n",
    "                  (\"C126\", Data('Shear Summary',    None,     None,     'C87',\n",
    "                               None)),\n",
    "                  (\"C127\", Data('Live Deflection Summary',    None,     None,\n",
    "                                'C109',   None)),\n",
    "                  (\"C128\", Data('Total Deflection Summary',   None,     None,\n",
    "                                'C118',   None))]\n",
    ")\n"
   ]
  },
  {
   "cell_type": "markdown",
   "metadata": {},
   "source": [
    "## Load Spreadsheet"
   ]
  },
  {
   "cell_type": "code",
   "execution_count": 2,
   "metadata": {
    "collapsed": true
   },
   "outputs": [],
   "source": [
    "from openpyxl import load_workbook\n",
    "wb = load_workbook('Timber Beam Template.xlsx')\n",
    "sheets = wb.get_sheet_names()\n",
    "ws = wb[sheets[0]]"
   ]
  },
  {
   "cell_type": "markdown",
   "metadata": {},
   "source": [
    "### Get a list of all named Cells"
   ]
  },
  {
   "cell_type": "code",
   "execution_count": 3,
   "metadata": {
    "collapsed": false
   },
   "outputs": [
    {
     "name": "stdout",
     "output_type": "stream",
     "text": [
      "['C_D', 'C_F', 'C_Fu', 'C_F_F_B', 'C_i', 'C_L', 'C_M', 'C_r', 'C_t', 'E', 'F_b', 'F_v', 'WIDTH']\n"
     ]
    }
   ],
   "source": [
    "named_ranges = wb.get_named_ranges()\n",
    "names = [nr.name for nr in named_ranges]\n",
    "print(names)"
   ]
  },
  {
   "cell_type": "markdown",
   "metadata": {},
   "source": [
    "### Develop a Substitution List "
   ]
  },
  {
   "cell_type": "code",
   "execution_count": 4,
   "metadata": {
    "collapsed": false
   },
   "outputs": [
    {
     "data": {
      "text/plain": [
       "{'C_D': CellID(variable='CD', cell='C51'),\n",
       " 'C_F': CellID(variable='CF', cell='C55'),\n",
       " 'C_F_F_B': CellID(variable='CF', cell='C55'),\n",
       " 'C_Fu': CellID(variable='Cfu', cell='C56'),\n",
       " 'C_L': CellID(variable='CL', cell='C54'),\n",
       " 'C_M': CellID(variable='CMb', cell='C52'),\n",
       " 'C_i': CellID(variable='Ci', cell='C57'),\n",
       " 'C_r': CellID(variable='Cr', cell='C58'),\n",
       " 'C_t': CellID(variable='Ct', cell='C53'),\n",
       " 'E': CellID(variable='E', cell='C45'),\n",
       " 'F_b': CellID(variable='Fb', cell='C43'),\n",
       " 'F_v': CellID(variable='Fv', cell='C44'),\n",
       " 'WIDTH': CellID(variable='d', cell='C36')}"
      ]
     },
     "execution_count": 4,
     "metadata": {},
     "output_type": "execute_result"
    }
   ],
   "source": [
    "name_dict = dict()\n",
    "CellID = namedtuple(\"CellID\",\"variable cell\")\n",
    "for name in names:\n",
    "    named_range = wb.get_named_range(name)\n",
    "#     print(named_range)\n",
    "    # ws.cell(nr7)\n",
    "    named_range_cell = named_range.destinations[0][1]\n",
    "    named_range_cell = named_range_cell.replace(\"$\",'')\n",
    "    equivalent = data_cells[named_range_cell].variable\n",
    "    name_dict[name] = CellID(equivalent,named_range_cell)\n",
    "#     print(\"{}: {}\".format(name,equivalent))\n",
    "#     cell_nr7 = ws.cell(nr7_cell)\n",
    "#     cell_nr7.value\n",
    "name_dict"
   ]
  },
  {
   "cell_type": "markdown",
   "metadata": {},
   "source": [
    "## Setup Sympy Variables"
   ]
  },
  {
   "cell_type": "code",
   "execution_count": 5,
   "metadata": {
    "collapsed": false
   },
   "outputs": [],
   "source": [
    "from sympy import symbols, simplify\n",
    "variables = []\n",
    "variable_dict = dict()\n",
    "for cell, content in data_cells.items():\n",
    "    if content.variable != None:\n",
    "        variable_dict[content.variable] = content.value\n",
    "        exec(\"{} = symbols('{}')\".format(content.variable,content.variable))"
   ]
  },
  {
   "cell_type": "markdown",
   "metadata": {},
   "source": [
    "### Truth Table Evaluation\n",
    "This is used for verifying IF statements."
   ]
  },
  {
   "cell_type": "code",
   "execution_count": 6,
   "metadata": {
    "collapsed": false
   },
   "outputs": [
    {
     "name": "stdout",
     "output_type": "stream",
     "text": [
      "[True, False, True, True]\n",
      "[False, True, False, False]\n",
      "[False False False False]\n",
      "[ True False  True  True]\n"
     ]
    }
   ],
   "source": [
    "import numpy as np\n",
    "def truth(symbols, comparison):\n",
    "    s1, s2 = symbols\n",
    "    check = []\n",
    "    check.append(eval(comparison.replace(s1,'1').replace(s2,'1')))\n",
    "    check.append(eval(comparison.replace(s1,'0').replace(s2,'1')))\n",
    "    check.append(eval(comparison.replace(s1,'0').replace(s2,'0')))\n",
    "    check.append(eval(comparison.replace(s1,'1').replace(s2,'0')))\n",
    "    return check\n",
    "A_ = truth(['x','y'],'x>=y')\n",
    "B_ = truth(['x','y'],'x<y')\n",
    "print(A_)\n",
    "print(B_)\n",
    "print(np.array(A_) & np.array(B_))\n",
    "print(np.array(A_) & ~ np.array(B_))"
   ]
  },
  {
   "cell_type": "markdown",
   "metadata": {},
   "source": [
    "## Examine each Cell's Content"
   ]
  },
  {
   "cell_type": "markdown",
   "metadata": {},
   "source": [
    "### Load Libraries"
   ]
  },
  {
   "cell_type": "code",
   "execution_count": null,
   "metadata": {
    "collapsed": true
   },
   "outputs": [],
   "source": []
  },
  {
   "cell_type": "markdown",
   "metadata": {},
   "source": [
    "### Text Entry Checks"
   ]
  },
  {
   "cell_type": "code",
   "execution_count": 7,
   "metadata": {
    "collapsed": true
   },
   "outputs": [],
   "source": [
    "def text_only(ID, CELL, content, cell):\n",
    "    \"Used to verify text only entries\"\n",
    "    description, variable, value, equation, condition = CELL\n",
    "    if content.lower().strip() == value.lower().strip():\n",
    "        print(\"{} is Correct: \".format(ID),end='')\n",
    "        print(\"Text entry for {} = {}\".format(cell,content))\n",
    "        return 1\n",
    "    else:\n",
    "        print(ID)\n",
    "        print('\\tText entry (\"{}\") '.format(content),end='')\n",
    "        print('does not match the answer of \"{}\"'.format(value))\n",
    "        return 0"
   ]
  },
  {
   "cell_type": "markdown",
   "metadata": {},
   "source": [
    "### Numeric Enrtry Checks"
   ]
  },
  {
   "cell_type": "code",
   "execution_count": 8,
   "metadata": {
    "collapsed": true
   },
   "outputs": [],
   "source": [
    "def number_only(ID, CELL, content, cell):\n",
    "    \"Checks the solution if the student only provided a number for an answer\"\n",
    "    description, variable, value, equation, condition = CELL\n",
    "    if content == value:\n",
    "        print(\"{} is right, ({} = {})\".format(ID, variable, content))\n",
    "        return 1\n",
    "    else:\n",
    "        print(ID)\n",
    "#         print('\\t{} in {} is wrong'.format(content,cell))\n",
    "        if equation != None:\n",
    "            print('\\tThe answer should be an equation '\n",
    "                  'like \"{}\" not {}'.format(equation, content))\n",
    "        elif condition != None:\n",
    "            print('\\tThe answer should be a conditional statement '\n",
    "                  'like \"{}\" not {}'.format(condition, content))\n",
    "        else:\n",
    "            des = description if variable == None else variable\n",
    "            print('\\tThe value for {} should be {} not {}'.format(des, value,\n",
    "                                                                 content))\n",
    "        return -1\n",
    "           "
   ]
  },
  {
   "cell_type": "markdown",
   "metadata": {},
   "source": [
    "### If-Then Statement Checks"
   ]
  },
  {
   "cell_type": "code",
   "execution_count": 9,
   "metadata": {
    "collapsed": true
   },
   "outputs": [],
   "source": [
    "import re\n",
    "\n",
    "comparison = re.compile(r'(?:IF\\()(.+?)(?:,)')\n",
    "T_and_F = re.compile(r'(?:\\b,)(.+?)(?:,)(.+?)(?:\\))')\n",
    "\n",
    "def conditional_check(ID, CELL, content, cell, tokens, variables):\n",
    "    \"Checks if-then answers\"\n",
    "    description, variable, value, equation, condition = CELL\n",
    "    if \"IF\" not in content:\n",
    "        print(ID)\n",
    "        print('\\t{} in {} is wrong'.format(content,cell))\n",
    "        print('\\tThe answer should be a conditional statement '\n",
    "              'like \"{}\"'.format(condition))\n",
    "        return -1\n",
    "    else:\n",
    "        Condition = ''.join(tokens)\n",
    "        compare = comparison.findall(Condition)\n",
    "        student = np.array(truth(variables, compare[0]))\n",
    "        my_compare = comparison.findall(CELL.condition)\n",
    "        answer = np.array(truth(variables, my_compare[0]))\n",
    "        info = \"\\t{} is correct if the following is true\".format(cell)\n",
    "        if all(student==answer):\n",
    "            s_choices = T_and_F.findall(Condition)[0]\n",
    "            a_choices = T_and_F.findall(CELL.condition)[0]\n",
    "        elif all(student==~answer):\n",
    "            s_choices = T_and_F.findall(Condition)[0][::-1]\n",
    "            a_choices = T_and_F.findall(CELL.condition)[0] \n",
    "        else:\n",
    "            # IF statement is wrong (the condition cannot match)\n",
    "            print(ID)\n",
    "            print(\"\\tStudent function is at {} = {}\".format(cell,Condition))\n",
    "            print('\\t{} is wrong'.format(cell))\n",
    "            return -1\n",
    "        manual = False\n",
    "        for a_choice,s_choice in zip(a_choices,s_choices):\n",
    "            if s_choice.lower().strip() != a_choice.lower().strip():\n",
    "                manual = True\n",
    "                info += '\\n\\t{} means {}'.format(s_choice,a_choice)\n",
    "        if manual:\n",
    "            print(ID)\n",
    "            print(\"\\tStudent function is at {} = {}\".format(cell,Condition))\n",
    "            print(info)\n",
    "            return 0\n",
    "        else:\n",
    "            print(\"{}: {} is correct.\".format(ID, cell))\n",
    "            return 1"
   ]
  },
  {
   "cell_type": "markdown",
   "metadata": {},
   "source": [
    "### Equation Checks"
   ]
  },
  {
   "cell_type": "code",
   "execution_count": 10,
   "metadata": {
    "collapsed": true
   },
   "outputs": [],
   "source": [
    "def equation_check(ID, CELL, content, cell, tokens, variables):\n",
    "    \"This verifies student equations are correct (Excel functions not used)\"\n",
    "    description, variable, value, equation, condition = CELL\n",
    "    if len(variables)!=0:\n",
    "        Equation = ''.join(tokens)\n",
    "        out = \"Student equation at {} = {}\".format(cell, Equation)\n",
    "        check = \"{}-({})\".format(Equation, equation)\n",
    "        results = simplify(check)\n",
    "        if results == 0:\n",
    "            out +=' - is Correct'\n",
    "            out = ID + ': '+out\n",
    "            val = 1\n",
    "        else:\n",
    "            print(ID)\n",
    "            out +=' - is Wrong!'\n",
    "            val = -1\n",
    "        print(out)\n",
    "    else:\n",
    "        print(ID)\n",
    "        print('\\t{} in {} is wrong'.format(content,cell))\n",
    "        print('\\tThe answer should be an equation '\n",
    "              'like \"{}\"'.format(equation))\n",
    "        val = -1\n",
    "    return val"
   ]
  },
  {
   "cell_type": "markdown",
   "metadata": {},
   "source": [
    "### Parsing for Non-Text and Numeric Cells"
   ]
  },
  {
   "cell_type": "code",
   "execution_count": 11,
   "metadata": {
    "collapsed": true
   },
   "outputs": [],
   "source": [
    "from openpyxl.formula import Tokenizer\n",
    "\n",
    "def parse(entry):\n",
    "    \"Parses student entry\"\n",
    "    tok = Tokenizer(entry)\n",
    "    tok.parse()\n",
    "    tokens = []\n",
    "    variables = []\n",
    "    for token in tok.items:\n",
    "        if token.subtype=='RANGE':\n",
    "            # This is a cell reference like C38, \n",
    "            # convert it to a symbolic variable\n",
    "            ref_cell = token.value\n",
    "            if ref_cell not in data_cells:\n",
    "                # This is a named range and it needs to be a variable\n",
    "                tokens.append(name_dict[ref_cell].variable)\n",
    "                variables.append(name_dict[ref_cell].variable)\n",
    "            elif data_cells[ref_cell].variable != None:\n",
    "                # This cell does not have a symbolic representation\n",
    "                tokens.append(data_cells[ref_cell].variable)\n",
    "                variables.append(data_cells[ref_cell].variable)\n",
    "            else:\n",
    "                tokens.append(ref_cell)\n",
    "        elif token.value=='^':\n",
    "            # Converting for python notation\n",
    "            tokens.append('**')\n",
    "        else:\n",
    "            tokens.append(token.value)\n",
    "    Tokens = namedtuple('Tokens','tokens variables')\n",
    "#     print(\"\\tVariables = {}, tokens = {}\".format(variables, tokens))\n",
    "    return Tokens(tokens, variables)"
   ]
  },
  {
   "cell_type": "markdown",
   "metadata": {},
   "source": [
    "### Scoring"
   ]
  },
  {
   "cell_type": "code",
   "execution_count": 12,
   "metadata": {
    "collapsed": false
   },
   "outputs": [],
   "source": [
    "import numbers\n",
    "\n",
    "def CHECK():\n",
    "    num = []\n",
    "    equ = []\n",
    "    cond = []\n",
    "    txt = []\n",
    "    for cell, content in data_cells.items():\n",
    "        ws_cell = ws.cell(cell)\n",
    "        CELL = data_cells[cell]\n",
    "        des = CELL.description if CELL.variable==None else CELL.variable\n",
    "        ID = \"Cell {} ({})\".format(cell, des)\n",
    "    #     _description, _variable, _value, _equation, _condition = CELL\n",
    "        if isinstance(ws_cell.value ,numbers.Number):\n",
    "            ID = 'Numeric: '+ID\n",
    "            # The student only entered a number in this cell\n",
    "            num.append(number_only(ID, CELL, ws_cell.value, cell))\n",
    "        elif (CELL.variable==None and CELL.equation==None and \n",
    "              CELL.condition==None and CELL.description!=None \n",
    "              and CELL.value!=None):\n",
    "            ID = 'Text: '+ID\n",
    "            # Text only solution\n",
    "            txt.append(text_only(ID, CELL, ws_cell.value, cell))\n",
    "        else:\n",
    "            tokens, variables = parse(ws_cell.value)\n",
    "            if CELL.condition != None:\n",
    "                ID = 'Conditional: '+ID\n",
    "                cond.append(conditional_check(ID, CELL, ws_cell.value, cell, \n",
    "                                              tokens, variables))\n",
    "            elif CELL.equation != None:\n",
    "                ID = 'Equation: '+ID\n",
    "                equ.append(equation_check(ID, CELL, ws_cell.value, cell, tokens, \n",
    "                               variables))\n",
    "    Results = namedtuple('Results','numeric equation condition text')\n",
    "    RightWrong = namedtuple('RightWrong','right wrong manual_verification')\n",
    "    results = Results(RightWrong(num.count(1),num.count(-1),num.count(0)),\n",
    "                      RightWrong(equ.count(1),equ.count(-1),equ.count(0)),\n",
    "                      RightWrong(cond.count(1),cond.count(-1),cond.count(0)),\n",
    "                      RightWrong(txt.count(1),txt.count(-1),txt.count(0)))\n",
    "    return results"
   ]
  },
  {
   "cell_type": "code",
   "execution_count": 13,
   "metadata": {
    "collapsed": false
   },
   "outputs": [
    {
     "name": "stdout",
     "output_type": "stream",
     "text": [
      "Text: Cell C23 (Species)\n",
      "\tText entry (\"Not Tree\") does not match the answer of \"Southern Pine\"\n",
      "Text: Cell C24 (Grade)\n",
      "\tText entry (\"Not B+\") does not match the answer of \"No. 2 Dense\"\n",
      "Text: Cell C25 (Moisture service conditions)\n",
      "\tText entry (\"Wet or Dry\") does not match the answer of \"Wet\"\n",
      "Numeric: Cell C26 (Nominal Beam Thickness)\n",
      "\tThe value for Nominal Beam Thickness should be 4 not 1\n",
      "Numeric: Cell C27 (Nominal Beam Depth)\n",
      "\tThe value for Nominal Beam Depth should be 10 not 1\n",
      "Numeric: Cell C28 (L)\n",
      "\tThe value for L should be 12 not 1\n",
      "Numeric: Cell C29 (s)\n",
      "\tThe value for s should be 18 not 1\n",
      "Numeric: Cell C30 (wD)\n",
      "\tThe value for wD should be 25 not 1\n",
      "Numeric: Cell C31 (wL)\n",
      "\tThe value for wL should be 125 not 1\n",
      "Numeric: Cell C32 (w)\n",
      "\tThe answer should be an equation like \"wD+wL\" not 1\n",
      "Numeric: Cell C35 (b) is right, (b = 3.5)\n",
      "Numeric: Cell C36 (d) is right, (d = 9.25)\n",
      "Numeric: Cell C37 (A)\n",
      "\tThe answer should be an equation like \"b*d\" not 1\n",
      "Numeric: Cell C38 (S)\n",
      "\tThe answer should be an equation like \"1/6*b*d**2\" not 1\n",
      "Equation: Cell C39 (I): Student equation at C39 = 1/12*(b*d**3) - is Correct\n",
      "Numeric: Cell C43 (Fb)\n",
      "\tThe value for Fb should be 850 not 0\n",
      "Numeric: Cell C44 (Fv)\n",
      "\tThe value for Fv should be 175 not 0\n",
      "Numeric: Cell C45 (E)\n",
      "\tThe value for E should be 1600000 not 0\n",
      "Numeric: Cell C51 (CD)\n",
      "\tThe value for CD should be 1.25 not 1\n",
      "Numeric: Cell C53 (Ct) is right, (Ct = 1)\n",
      "Numeric: Cell C54 (CL) is right, (CL = 1)\n",
      "Numeric: Cell C55 (CF) is right, (CF = 1)\n",
      "Numeric: Cell C56 (Cfu) is right, (Cfu = 1)\n",
      "Numeric: Cell C57 (Ci) is right, (Ci = 1)\n",
      "Numeric: Cell C58 (Cr)\n",
      "\tThe answer should be a conditional statement like \"IF(s<=24, 1.15, 1)\" not 1\n",
      "Numeric: Cell C61 (Fb_)\n",
      "\tThe answer should be an equation like \"Fb*CD*CMb*Ct*CL*CF*Cfu*Ci*Cr\" not 0\n",
      "Numeric: Cell C64 (M)\n",
      "\tThe answer should be an equation like \"w*L**2/8\" not 0\n",
      "Numeric: Cell C66 (fb)\n",
      "\tThe answer should be an equation like \"M/S\" not 0\n",
      "Conditional: Cell C68 (Bending Check): C68 is correct.\n",
      "Numeric: Cell C74 (CD)\n",
      "\tThe answer should be an equation like \"CD\" not 1\n",
      "Numeric: Cell C75 (CMv)\n",
      "\tThe value for CMv should be 0.97 not 1\n",
      "Numeric: Cell C76 (Ct) is right, (Ct = 1)\n",
      "Numeric: Cell C77 (Ci) is right, (Ci = 1)\n",
      "Numeric: Cell C80 (Fv_)\n",
      "\tThe answer should be an equation like \"Fv*CD*CMv*Ct*Ci\" not 0\n",
      "Numeric: Cell C83 (V)\n",
      "\tThe answer should be an equation like \"w*L/2\" not 0\n",
      "Numeric: Cell C85 (fv)\n",
      "\tThe answer should be an equation like \"3/2*V/A\" not 0\n",
      "Conditional: Cell C87 (Shear Check)\n",
      "\tAutomate Me in C87 is wrong\n",
      "\tThe answer should be a conditional statement like \"IF(Fv_>=fv,\"Good\",\"Not Good\")\"\n",
      "Numeric: Cell C94 (CME)\n",
      "\tThe value for CME should be 0.9 not 1\n",
      "Numeric: Cell C95 (Ct) is right, (Ct = 1)\n",
      "Numeric: Cell C96 (Ci) is right, (Ci = 1)\n",
      "Numeric: Cell C100 (E_)\n",
      "\tThe answer should be an equation like \"E*CME\" not 1\n",
      "Numeric: Cell C104 (L_360)\n",
      "\tThe answer should be an equation like \"L/360\" not 1\n",
      "Numeric: Cell C107 (D_live)\n",
      "\tThe answer should be an equation like \"5*wL*L**4/(384*E_*I)*12**3\" not 1\n",
      "Conditional: Cell C109 (Live Deflection Check)\n",
      "\tAutomate Me in C109 is wrong\n",
      "\tThe answer should be a conditional statement like \"IF(L_360>=D_live,\"Good\",\"Not Good\")\"\n",
      "Numeric: Cell C112 (L_240)\n",
      "\tThe answer should be an equation like \"L/240\" not 1\n",
      "Numeric: Cell C116 (D_total)\n",
      "\tThe answer should be an equation like \"5*w*L**4/(384*E_*I)*12**3\" not 1\n",
      "Conditional: Cell C118 (Total Deflection Check)\n",
      "\tAutomate Me in C118 is wrong\n",
      "\tThe answer should be a conditional statement like \"IF(L_360>=D_total,\"Good\",\"Not Good\")\"\n",
      "Equation: Cell C125 (Bending Summary)\n",
      "\tAutomate Me in C125 is wrong\n",
      "\tThe answer should be an equation like \"C68\"\n",
      "Equation: Cell C126 (Shear Summary)\n",
      "\tAutomate Me in C126 is wrong\n",
      "\tThe answer should be an equation like \"C87\"\n",
      "Equation: Cell C127 (Live Deflection Summary)\n",
      "\tAutomate Me in C127 is wrong\n",
      "\tThe answer should be an equation like \"C109\"\n",
      "Equation: Cell C128 (Total Deflection Summary)\n",
      "\tAutomate Me in C128 is wrong\n",
      "\tThe answer should be an equation like \"C118\"\n"
     ]
    }
   ],
   "source": [
    "Results = CHECK()"
   ]
  },
  {
   "cell_type": "code",
   "execution_count": 14,
   "metadata": {
    "collapsed": false
   },
   "outputs": [
    {
     "name": "stdout",
     "output_type": "stream",
     "text": [
      "Numeric         RightWrong(right=11, wrong=28, manual_verification=0)\n",
      "Equation        RightWrong(right=1, wrong=4, manual_verification=0)\n",
      "Condition       RightWrong(right=1, wrong=3, manual_verification=0)\n",
      "Text            RightWrong(right=0, wrong=0, manual_verification=3)\n"
     ]
    }
   ],
   "source": [
    "print('{:<15} {}'.format(\"Numeric\",Results.numeric))\n",
    "print('{:<15} {}'.format('Equation',Results.equation))\n",
    "print('{:<15} {}'.format('Condition',Results.condition))\n",
    "print('{:<15} {}'.format('Text',Results.text))"
   ]
  },
  {
   "cell_type": "markdown",
   "metadata": {},
   "source": [
    "# Original Check"
   ]
  },
  {
   "cell_type": "code",
   "execution_count": 15,
   "metadata": {
    "collapsed": false
   },
   "outputs": [
    {
     "name": "stdout",
     "output_type": "stream",
     "text": [
      "Text entry in cell C23 = Not Tree\n",
      "The answer key has \"Southern Pine\"\n",
      "Text entry in cell C24 = Not B+\n",
      "The answer key has \"No. 2 Dense\"\n",
      "Text entry in cell C25 = Wet or Dry\n",
      "The answer key has \"Wet\"\n",
      "\t1 in C26 is wrong\n",
      "\t1 in C27 is wrong\n",
      "\t1 in C28 is wrong\n",
      "\t1 in C29 is wrong\n",
      "\t1 in C30 is wrong\n",
      "\t1 in C31 is wrong\n",
      "\t1 in C32 is wrong\n",
      "C35 is right, (b = 3.5)\n",
      "C36 is right, (d = 9.25)\n",
      "\t1 in C37 is wrong\n",
      "\t1 in C38 is wrong\n",
      "Student equation at C39 = 1/12*(b*d**3) - Equation is good\n",
      "\tC43 is wrong\n",
      "\tC44 is wrong\n",
      "\tC45 is wrong\n",
      "\t1 in C51 is wrong\n",
      "\tNo Condition found for CMb\n",
      "\tStudent used IF(C25=\"Wet\",0.85,1)\n",
      "C53 is right, (Ct = 1)\n",
      "C54 is right, (CL = 1)\n",
      "C55 is right, (CF = 1)\n",
      "C56 is right, (Cfu = 1)\n",
      "C57 is right, (Ci = 1)\n",
      "\t1 in C58 is wrong\n",
      "\tC61 is wrong\n",
      "\tC64 is wrong\n",
      "\tC66 is wrong\n",
      "Student function is at C68 = IF(Fb_>=fb,\"Good\",\"Not Good\")\n",
      "\tC68 is correct if the following is true\n",
      "\t\"Good\" means \"Good\"\n",
      "\t\"Not Good\" means \"Not Good\"\n",
      "\t1 in C74 is wrong\n",
      "\t1 in C75 is wrong\n",
      "C76 is right, (Ct = 1)\n",
      "C77 is right, (Ci = 1)\n",
      "\tC80 is wrong\n",
      "\tC83 is wrong\n",
      "\tC85 is wrong\n",
      "Text entry in cell C87 = Automate Me\n",
      "\tWrong: This should not be a text entry.\n",
      "\t1 in C94 is wrong\n",
      "C95 is right, (Ct = 1)\n",
      "C96 is right, (Ci = 1)\n",
      "\t1 in C100 is wrong\n",
      "\t1 in C104 is wrong\n",
      "\t1 in C107 is wrong\n",
      "Text entry in cell C109 = Automate Me\n",
      "\tWrong: This should not be a text entry.\n",
      "\t1 in C112 is wrong\n",
      "\t1 in C116 is wrong\n",
      "Text entry in cell C118 = Automate Me\n",
      "\tWrong: This should not be a text entry.\n",
      "Text entry in cell C125 = Automate Me\n",
      "\tWrong: This should not be a text entry.\n",
      "Text entry in cell C126 = Automate Me\n",
      "\tWrong: This should not be a text entry.\n",
      "Text entry in cell C127 = Automate Me\n",
      "\tWrong: This should not be a text entry.\n",
      "Text entry in cell C128 = Automate Me\n",
      "\tWrong: This should not be a text entry.\n"
     ]
    }
   ],
   "source": [
    "from openpyxl.formula import Tokenizer\n",
    "import re\n",
    "\n",
    "comparison = re.compile(r'(?:IF\\()(.+?)(?:,)')\n",
    "T_and_F = re.compile(r'(?:\\b,)(.+?)(?:,)(.+?)(?:\\))')\n",
    "\n",
    "for cell, content in data_cells.items():\n",
    "    ws_cell = ws.cell(cell)\n",
    "    CELL = data_cells[cell]\n",
    "    try:\n",
    "        tok = Tokenizer(ws_cell.value)\n",
    "        tok.parse()\n",
    "        equation = []\n",
    "        is_equation = False\n",
    "        function = False\n",
    "        nothing = False\n",
    "        if len(tok.items)==0:\n",
    "            # There is nothing or a zero in the cell\n",
    "            nothing = True\n",
    "        else:\n",
    "            comparison_variables = [] # (in case an IF statement is found)\n",
    "        for token in tok.items:\n",
    "            if token.type == 'FUNC':\n",
    "                # This should be an IF statement\n",
    "                function = True\n",
    "            if token.subtype=='RANGE':\n",
    "                # This is a cell reference like C38, \n",
    "                # convert it to a symbolic variable\n",
    "                is_equation = True\n",
    "                ref_cell = token.value\n",
    "                if ref_cell not in data_cells:\n",
    "                    # This is a named range and it needs to be a variable\n",
    "                    cell_variable = name_dict[ref_cell].variable\n",
    "                else:\n",
    "                    # This cell does not have a symbolic representation\n",
    "                    cell_variable = data_cells[ref_cell].variable\n",
    "                    if cell_variable == None:\n",
    "                        cell_variable = ref_cell\n",
    "                equation.append(cell_variable)\n",
    "                if function:\n",
    "                    # Keep track of variable bing compared in IF statements\n",
    "                    comparison_variables.append(cell_variable)\n",
    "            elif token.value=='^':\n",
    "                # Converting for python notation\n",
    "                equation.append('**')\n",
    "            else:\n",
    "                equation.append(token.value)\n",
    "        Equation = ''.join(equation)\n",
    "        if not function and not nothing:\n",
    "            if is_equation:\n",
    "                out = \"Student equation at {} = {}\".format(cell, Equation)\n",
    "                check = \"{}-({})\".format(Equation, CELL.equation)\n",
    "                results = simplify(check)\n",
    "                if results == 0:\n",
    "                    out +=' - Equation is good'\n",
    "                else:\n",
    "                    out +=' - Equation is BAD!'\n",
    "                print(out)\n",
    "            else:\n",
    "                print(\"Text entry in cell {} = {}\".format(cell,Equation))\n",
    "                if (CELL.equation !=None or CELL.variable !=None or \n",
    "                    CELL.condition !=None):\n",
    "                    print(\"\\tWrong: This should not be a text entry.\")\n",
    "                else:\n",
    "                    print('The answer key has \"{}\"'.format(CELL.value))\n",
    "        elif not nothing:\n",
    "            if CELL.condition != None:\n",
    "                # Validate IF statement equivalence\n",
    "                print(\"Student function is at {} = {}\".format(cell,Equation))\n",
    "                compare = comparison.findall(Equation)\n",
    "                student = np.array(truth(comparison_variables, compare[0]))\n",
    "                my_compare = comparison.findall(CELL.condition)\n",
    "                answer = np.array(truth(comparison_variables, my_compare[0]))\n",
    "                info = \"\\t{} is correct if the following is true\".format(cell)\n",
    "                if all(student==answer):\n",
    "                    s_choices = T_and_F.findall(Equation)[0]\n",
    "                    a_choices = T_and_F.findall(CELL.condition)[0]\n",
    "                    print(info)\n",
    "                    for a_choice,s_choice in zip(a_choices,s_choices):\n",
    "                        print('\\t{} means {}'.format(s_choice,a_choice))\n",
    "                elif all(student==~answer):\n",
    "                    s_choices = T_and_F.findall(Equation)[0][::-1]\n",
    "                    a_choices = T_and_F.findall(CELL.condition)[0]\n",
    "                    print(info)\n",
    "                    for a_choice,s_choice in zip(a_choices,s_choices):\n",
    "                        print('\\t{} means {}'.format(s_choice,a_choice))\n",
    "                else:\n",
    "                    # IF statement is wrong\n",
    "                    print('\\t{} is wrong'.format(cell))\n",
    "            else:\n",
    "                if CELL.description != None:\n",
    "                    desc = CELL.description  \n",
    "                else:\n",
    "                    desc = CELL.variable\n",
    "                print(\"\\tNo Condition found for {}\".format(desc))\n",
    "                print(\"\\tStudent used {}\".format(Equation))\n",
    "        else:\n",
    "            if CELL.value != 0:\n",
    "                print(\"\\t{} is wrong\".format(cell))\n",
    "            else:\n",
    "                print(\"{} = 0 - Correct\".format(cell))\n",
    "    except TypeError:\n",
    "        if ws_cell.value == content.value:\n",
    "            print(\"{} is right, ({} = {})\".format(cell,CELL.variable,\n",
    "                                                  ws_cell.value))\n",
    "        else:\n",
    "            print('\\t{} in {} is wrong'.format(ws_cell.value,cell))\n"
   ]
  },
  {
   "cell_type": "markdown",
   "metadata": {},
   "source": [
    "# Appendix: Transform data_cells Content"
   ]
  },
  {
   "cell_type": "markdown",
   "metadata": {},
   "source": [
    "This was only used in the development."
   ]
  },
  {
   "cell_type": "code",
   "execution_count": 16,
   "metadata": {
    "collapsed": false
   },
   "outputs": [],
   "source": [
    "# txt = \"\"\"data_cells = {'C23':Data('Species', None,'Southern Pine',None,None),\n",
    "#               'C24':Data('Grade', None,'No. 2 Dense',None,None),\n",
    "#               'C25':Data('Moisture service conditions', None,'Wet',None,None),\n",
    "#               'C26':Data('Nominal Beam Thickness', None,4,None,None),\n",
    "#               'C27':Data('Nominal Beam Depth', None,10,None,None),\n",
    "#               'C28':Data(None, 'L',12,None,None),\n",
    "#               'C29':Data(None, 's',18,None,None),\n",
    "#               'C30':Data(None, 'wD',25,None,None),\n",
    "#               'C31':Data(None, 'wL',125,None,None),\n",
    "#               'C35':Data(None, 'b',3.5,None,None),\n",
    "#               'C36':Data(None, 'd',9.25,None,None),\n",
    "#               'C43':Data(None, 'Fb',850,None,None),\n",
    "#               'C44':Data(None, 'Fv',175,None,None),\n",
    "#               'C45':Data(None, 'E',1600000,None,None),\n",
    "#               'C51':Data(None, 'CD',1.25,None,None),\n",
    "#               'C52':Data(None, 'CMb',1,None,None),\n",
    "#               'C53':Data(None, 'Ct',1,None,None),\n",
    "#               'C54':Data(None, 'CL',1,None,None),\n",
    "#               'C55':Data(None, 'CF',1,None,None),\n",
    "#               'C56':Data(None, 'Cfu',1,None,None),\n",
    "#               'C57':Data(None, 'Ci',1,None,None),\n",
    "#               'C75':Data(None, 'CMv',0.97,None,None),\n",
    "#               'C94':Data(None, 'CME',0.9,None,None),\n",
    "#               'C32':Data(None, 'w',150,'wD+wL',None),\n",
    "#               'C37':Data(None, 'A',32.38,'b*d',None),\n",
    "#               'C38':Data(None, 'S',49.91,'1/6*b*d**2',None),\n",
    "#               'C39':Data(None, 'I',230.8,'1/12*b*d**3',None),\n",
    "#               'C58':Data(None, 'Cr',1.15,None,'IF(s<=24,1.15,1)'),\n",
    "#               'C61':Data(None, 'Fb_', None, 'Fb*CD*CMb*Ct*CL*CF*Cfu*Ci*Cr',None),\n",
    "#               'C64':Data(None, 'M', None, 'w*L**2/8',None),\n",
    "#               'C66':Data(None, 'fb', None, 'M/S',None),\n",
    "#               'C68':Data('Bending Check', None, None, None,'IF(Fb_>=fb,\"Good\",\"Not Good\")'),\n",
    "#               'C74':Data(None, 'CD',1.25, 'CD',None),\n",
    "#               'C76':Data(None, 'Ct',1, 'Ct',None),\n",
    "#               'C77':Data(None, 'Ci',1, 'Ci',None),\n",
    "#               'C80':Data(None, 'Fv_', None, 'Fv*CD*CMv*Ct*Ci',None),\n",
    "#               'C83':Data(None, 'V', None, 'w*L/2',None),\n",
    "#               'C85':Data(None, 'fv', None, '3/2*V/A',None),\n",
    "#               'C87':Data('Shear Check', None, None, None,'IF(Fv_>=fv,\"Good\",\"Not Good\")'),\n",
    "#               'C95':Data(None, 'Ct',1, 'Ct',None),\n",
    "#               'C96':Data(None, 'Ci',1, 'Ci',None),\n",
    "#               'C100':Data(None, 'E_', None, None,None),\n",
    "#               'C104':Data(None, 'L_360', None, 'L/360',None),\n",
    "#               'C107':Data(None, 'D_live', None, '5*wL*L**4/(384*E_*I)*12**3',None),\n",
    "#               'C109':Data('Live Deflection Check', None, None, None,'IF(L_360>=D_live,\"Good\",\"Not Good\")'),\n",
    "#               'C112':Data(None, 'L_240', None, 'L/240',None),\n",
    "#               'C116':Data(None, 'D_total', None, '5*w*L**4/(384*E_*I)*12**3',None),\n",
    "#               'C118':Data('Total Deflection Check', None, None, None,'IF(L_360>=D_total,\"Good\",\"Not Good\")'),\n",
    "#               'C125':Data('Bending Summary', None, None, 'C68',None),\n",
    "#               'C126':Data('Shear Summary', None, None, 'C87',None),\n",
    "#               'C127':Data('Live Deflection Summary', None, None, 'C109',None),\n",
    "#               'C128':Data('Total Deflection Summary', None,None,'C118',None),\n",
    "# }\"\"\"\n",
    "# import re\n",
    "# comma = re.compile(r',(?!\\s)')\n",
    "# out_lines = []\n",
    "# for line in txt.splitlines():\n",
    "#     line = comma.sub(', ',line)\n",
    "# #     if line!=Line:\n",
    "# #         print(Line)\n",
    "#     out_lines.append(line)\n",
    "# print('\\n'.join(out_lines))\n",
    "# # cell_name = re.compile(r\"(?:Data\\()(\\'\\w\\d+\\')\")\n",
    "# # data = re.compile(r\"Data\\('.*'\")\n",
    "# # # cell_name.findall(txt)\n",
    "# # for cell in data.findall(txt):\n",
    "# #     txt = txt.replace(cell,\"{},''\".format(cell))\n",
    "# # cell_data = re.compile(r'(?:Data\\()(\\'.*?\\')(?:,)')\n",
    "# # print(txt)\n",
    "# # changes = list(set(cell_data.findall(txt)))\n",
    "# # print(changes)\n",
    "# # not_variables = [\"'Species'\",\"'Grade'\"]\n",
    "# # print(txt)\n",
    "# # for change in changes:\n",
    "# #     if 'None' in change:\n",
    "# #         continue\n",
    "# #     elif ' ' in change or change in not_variables:\n",
    "# #         txt = txt.replace(change,\"{}, None\".format(change))\n",
    "# #     else:\n",
    "# #         txt = txt.replace(change,\"None, {}\".format(change))\n",
    "# # txt = txt.replace(\"''\",\"None\")\n",
    "# # print(txt)"
   ]
  }
 ],
 "metadata": {
  "kernelspec": {
   "display_name": "Python 3.5",
   "language": "python",
   "name": "python3-5"
  },
  "language_info": {
   "codemirror_mode": {
    "name": "ipython",
    "version": 3
   },
   "file_extension": ".py",
   "mimetype": "text/x-python",
   "name": "python",
   "nbconvert_exporter": "python",
   "pygments_lexer": "ipython3",
   "version": "3.5.1+"
  }
 },
 "nbformat": 4,
 "nbformat_minor": 0
}
